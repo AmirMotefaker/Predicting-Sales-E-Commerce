{
 "cells": [
  {
   "cell_type": "markdown",
   "id": "b820cc0f",
   "metadata": {
    "_cell_guid": "b1076dfc-b9ad-4769-8c92-a6c4dae69d19",
    "_uuid": "8f2839f25d086af736a60e9eeb907d3b93b6e0e5",
    "papermill": {
     "duration": 0.003139,
     "end_time": "2023-01-16T07:20:34.387792",
     "exception": false,
     "start_time": "2023-01-16T07:20:34.384653",
     "status": "completed"
    },
    "tags": []
   },
   "source": [
    "# Predicting Sales E-Commerce\n",
    "\n",
    "- We live in the world of e-commerce. We see tons of different stores here and there through the web. Internet made it possible to trade with anyone and everywhere. We can buy goods without leaving our house, we can compare prices in different stores within seconds, we can find what we really want and do not accept just the first more or less suitable offer. And I believe it would be really interesting to look at this world through the data it produces. That's why I decided to play around with e-commerce numbers and try to understand it better.\n",
    "\n",
    "- The data used in this analysis is taken from Kaggle dataset \"E-Commerce Data | Actual transactions of UK retailer\".\n",
    "\n",
    "- This is a transnational data set which contains all the transactions occurring between 01/12/2010 and 09/12/2011 for a UK-based and registered non-store online retail.The company mainly sells unique all-occasion gifts. Many customers of the company are wholesalers.\n",
    "\n",
    "- As always, we start our analysis by setting up our environment and by importing necessary libraries.\n",
    "\n",
    "- We import standard numpy and pandas to be able to perform analysis with Python, also we need data visualization libraries matplotlib and seaborn to output interesting visual findings.\n",
    "\n",
    "\n",
    "\n",
    "- Online Retail Data Set: [DataSet](https://archive.ics.uci.edu/ml/datasets/online+retail#)\n"
   ]
  },
  {
   "cell_type": "markdown",
   "id": "8c508785",
   "metadata": {
    "papermill": {
     "duration": 0.001482,
     "end_time": "2023-01-16T07:20:34.391655",
     "exception": false,
     "start_time": "2023-01-16T07:20:34.390173",
     "status": "completed"
    },
    "tags": []
   },
   "source": [
    "# Import libraries"
   ]
  },
  {
   "cell_type": "code",
   "execution_count": 1,
   "id": "257dc46f",
   "metadata": {
    "execution": {
     "iopub.execute_input": "2023-01-16T07:20:34.397672Z",
     "iopub.status.busy": "2023-01-16T07:20:34.397115Z",
     "iopub.status.idle": "2023-01-16T07:20:35.692402Z",
     "shell.execute_reply": "2023-01-16T07:20:35.691058Z"
    },
    "papermill": {
     "duration": 1.302416,
     "end_time": "2023-01-16T07:20:35.695791",
     "exception": false,
     "start_time": "2023-01-16T07:20:34.393375",
     "status": "completed"
    },
    "tags": []
   },
   "outputs": [],
   "source": [
    "import pandas as pd\n",
    "import numpy as np\n",
    "import matplotlib.pyplot as plt\n",
    "import seaborn as sns\n",
    "\n",
    "import warnings\n",
    "warnings.filterwarnings('ignore')\n",
    "\n",
    "plt.style.use('fivethirtyeight')\n",
    "%matplotlib inline"
   ]
  }
 ],
 "metadata": {
  "kernelspec": {
   "display_name": "Python 3",
   "language": "python",
   "name": "python3"
  },
  "language_info": {
   "codemirror_mode": {
    "name": "ipython",
    "version": 3
   },
   "file_extension": ".py",
   "mimetype": "text/x-python",
   "name": "python",
   "nbconvert_exporter": "python",
   "pygments_lexer": "ipython3",
   "version": "3.7.12"
  },
  "papermill": {
   "default_parameters": {},
   "duration": 12.409589,
   "end_time": "2023-01-16T07:20:36.825816",
   "environment_variables": {},
   "exception": null,
   "input_path": "__notebook__.ipynb",
   "output_path": "__notebook__.ipynb",
   "parameters": {},
   "start_time": "2023-01-16T07:20:24.416227",
   "version": "2.3.4"
  }
 },
 "nbformat": 4,
 "nbformat_minor": 5
}
