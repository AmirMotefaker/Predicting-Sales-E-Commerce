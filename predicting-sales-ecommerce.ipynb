{
 "cells": [
  {
   "cell_type": "markdown",
   "id": "e1226089",
   "metadata": {
    "_cell_guid": "b1076dfc-b9ad-4769-8c92-a6c4dae69d19",
    "_uuid": "8f2839f25d086af736a60e9eeb907d3b93b6e0e5",
    "papermill": {
     "duration": 0.003947,
     "end_time": "2023-01-16T07:27:34.326057",
     "exception": false,
     "start_time": "2023-01-16T07:27:34.322110",
     "status": "completed"
    },
    "tags": []
   },
   "source": [
    "# Predicting Sales E-Commerce\n",
    "\n",
    "- We live in the world of e-commerce. We see tons of different stores here and there through the web. Internet made it possible to trade with anyone and everywhere. We can buy goods without leaving our house, we can compare prices in different stores within seconds, we can find what we really want and do not accept just the first more or less suitable offer. And I believe it would be really interesting to look at this world through the data it produces. That's why I decided to play around with e-commerce numbers and try to understand it better.\n",
    "\n",
    "- The data used in this analysis is taken from Kaggle dataset \"E-Commerce Data | Actual transactions of UK retailer\".\n",
    "\n",
    "- This is a transnational data set which contains all the transactions occurring between 01/12/2010 and 09/12/2011 for a UK-based and registered non-store online retail.The company mainly sells unique all-occasion gifts. Many customers of the company are wholesalers.\n",
    "\n",
    "- As always, we start our analysis by setting up our environment and by importing necessary libraries.\n",
    "\n",
    "- We import standard numpy and pandas to be able to perform analysis with Python, also we need data visualization libraries matplotlib and seaborn to output interesting visual findings.\n",
    "\n",
    "\n",
    "\n",
    "- Online Retail Data Set: [DataSet](https://archive.ics.uci.edu/ml/datasets/online+retail#)\n"
   ]
  },
  {
   "cell_type": "markdown",
   "id": "7b9f0aba",
   "metadata": {
    "papermill": {
     "duration": 0.002037,
     "end_time": "2023-01-16T07:27:34.331152",
     "exception": false,
     "start_time": "2023-01-16T07:27:34.329115",
     "status": "completed"
    },
    "tags": []
   },
   "source": [
    "# Import libraries"
   ]
  },
  {
   "cell_type": "code",
   "execution_count": 1,
   "id": "a0df4c55",
   "metadata": {
    "execution": {
     "iopub.execute_input": "2023-01-16T07:27:34.338657Z",
     "iopub.status.busy": "2023-01-16T07:27:34.337476Z",
     "iopub.status.idle": "2023-01-16T07:27:35.535335Z",
     "shell.execute_reply": "2023-01-16T07:27:35.534139Z"
    },
    "papermill": {
     "duration": 1.204877,
     "end_time": "2023-01-16T07:27:35.538248",
     "exception": false,
     "start_time": "2023-01-16T07:27:34.333371",
     "status": "completed"
    },
    "tags": []
   },
   "outputs": [],
   "source": [
    "import pandas as pd\n",
    "import numpy as np\n",
    "import matplotlib.pyplot as plt\n",
    "import seaborn as sns\n",
    "\n",
    "import warnings\n",
    "warnings.filterwarnings('ignore')\n",
    "\n",
    "plt.style.use('fivethirtyeight')\n",
    "%matplotlib inline"
   ]
  },
  {
   "cell_type": "markdown",
   "id": "e22ca926",
   "metadata": {
    "papermill": {
     "duration": 0.0021,
     "end_time": "2023-01-16T07:27:35.542915",
     "exception": false,
     "start_time": "2023-01-16T07:27:35.540815",
     "status": "completed"
    },
    "tags": []
   },
   "source": [
    "# Import Data"
   ]
  },
  {
   "cell_type": "code",
   "execution_count": 2,
   "id": "cae07634",
   "metadata": {
    "execution": {
     "iopub.execute_input": "2023-01-16T07:27:35.549466Z",
     "iopub.status.busy": "2023-01-16T07:27:35.549030Z",
     "iopub.status.idle": "2023-01-16T07:27:36.755824Z",
     "shell.execute_reply": "2023-01-16T07:27:36.754734Z"
    },
    "papermill": {
     "duration": 1.213385,
     "end_time": "2023-01-16T07:27:36.758617",
     "exception": false,
     "start_time": "2023-01-16T07:27:35.545232",
     "status": "completed"
    },
    "tags": []
   },
   "outputs": [],
   "source": [
    "df = pd.read_csv(\"/kaggle/input/onlineretail/OnlineRetail.csv\", encoding=\"latin\", dtype={'CustomerID': str})\n"
   ]
  },
  {
   "cell_type": "code",
   "execution_count": 3,
   "id": "cd44de94",
   "metadata": {
    "execution": {
     "iopub.execute_input": "2023-01-16T07:27:36.765710Z",
     "iopub.status.busy": "2023-01-16T07:27:36.764717Z",
     "iopub.status.idle": "2023-01-16T07:27:36.789926Z",
     "shell.execute_reply": "2023-01-16T07:27:36.788786Z"
    },
    "papermill": {
     "duration": 0.03124,
     "end_time": "2023-01-16T07:27:36.792401",
     "exception": false,
     "start_time": "2023-01-16T07:27:36.761161",
     "status": "completed"
    },
    "tags": []
   },
   "outputs": [
    {
     "data": {
      "text/html": [
       "<div>\n",
       "<style scoped>\n",
       "    .dataframe tbody tr th:only-of-type {\n",
       "        vertical-align: middle;\n",
       "    }\n",
       "\n",
       "    .dataframe tbody tr th {\n",
       "        vertical-align: top;\n",
       "    }\n",
       "\n",
       "    .dataframe thead th {\n",
       "        text-align: right;\n",
       "    }\n",
       "</style>\n",
       "<table border=\"1\" class=\"dataframe\">\n",
       "  <thead>\n",
       "    <tr style=\"text-align: right;\">\n",
       "      <th></th>\n",
       "      <th>InvoiceNo</th>\n",
       "      <th>StockCode</th>\n",
       "      <th>Description</th>\n",
       "      <th>Quantity</th>\n",
       "      <th>InvoiceDate</th>\n",
       "      <th>UnitPrice</th>\n",
       "      <th>CustomerID</th>\n",
       "      <th>Country</th>\n",
       "    </tr>\n",
       "  </thead>\n",
       "  <tbody>\n",
       "    <tr>\n",
       "      <th>0</th>\n",
       "      <td>536365</td>\n",
       "      <td>85123A</td>\n",
       "      <td>WHITE HANGING HEART T-LIGHT HOLDER</td>\n",
       "      <td>6</td>\n",
       "      <td>12/1/2010 8:26</td>\n",
       "      <td>2.55</td>\n",
       "      <td>17850</td>\n",
       "      <td>United Kingdom</td>\n",
       "    </tr>\n",
       "    <tr>\n",
       "      <th>1</th>\n",
       "      <td>536365</td>\n",
       "      <td>71053</td>\n",
       "      <td>WHITE METAL LANTERN</td>\n",
       "      <td>6</td>\n",
       "      <td>12/1/2010 8:26</td>\n",
       "      <td>3.39</td>\n",
       "      <td>17850</td>\n",
       "      <td>United Kingdom</td>\n",
       "    </tr>\n",
       "    <tr>\n",
       "      <th>2</th>\n",
       "      <td>536365</td>\n",
       "      <td>84406B</td>\n",
       "      <td>CREAM CUPID HEARTS COAT HANGER</td>\n",
       "      <td>8</td>\n",
       "      <td>12/1/2010 8:26</td>\n",
       "      <td>2.75</td>\n",
       "      <td>17850</td>\n",
       "      <td>United Kingdom</td>\n",
       "    </tr>\n",
       "    <tr>\n",
       "      <th>3</th>\n",
       "      <td>536365</td>\n",
       "      <td>84029G</td>\n",
       "      <td>KNITTED UNION FLAG HOT WATER BOTTLE</td>\n",
       "      <td>6</td>\n",
       "      <td>12/1/2010 8:26</td>\n",
       "      <td>3.39</td>\n",
       "      <td>17850</td>\n",
       "      <td>United Kingdom</td>\n",
       "    </tr>\n",
       "    <tr>\n",
       "      <th>4</th>\n",
       "      <td>536365</td>\n",
       "      <td>84029E</td>\n",
       "      <td>RED WOOLLY HOTTIE WHITE HEART.</td>\n",
       "      <td>6</td>\n",
       "      <td>12/1/2010 8:26</td>\n",
       "      <td>3.39</td>\n",
       "      <td>17850</td>\n",
       "      <td>United Kingdom</td>\n",
       "    </tr>\n",
       "  </tbody>\n",
       "</table>\n",
       "</div>"
      ],
      "text/plain": [
       "  InvoiceNo StockCode                          Description  Quantity  \\\n",
       "0    536365    85123A   WHITE HANGING HEART T-LIGHT HOLDER         6   \n",
       "1    536365     71053                  WHITE METAL LANTERN         6   \n",
       "2    536365    84406B       CREAM CUPID HEARTS COAT HANGER         8   \n",
       "3    536365    84029G  KNITTED UNION FLAG HOT WATER BOTTLE         6   \n",
       "4    536365    84029E       RED WOOLLY HOTTIE WHITE HEART.         6   \n",
       "\n",
       "      InvoiceDate  UnitPrice CustomerID         Country  \n",
       "0  12/1/2010 8:26       2.55      17850  United Kingdom  \n",
       "1  12/1/2010 8:26       3.39      17850  United Kingdom  \n",
       "2  12/1/2010 8:26       2.75      17850  United Kingdom  \n",
       "3  12/1/2010 8:26       3.39      17850  United Kingdom  \n",
       "4  12/1/2010 8:26       3.39      17850  United Kingdom  "
      ]
     },
     "execution_count": 3,
     "metadata": {},
     "output_type": "execute_result"
    }
   ],
   "source": [
    "df.head()"
   ]
  }
 ],
 "metadata": {
  "kernelspec": {
   "display_name": "Python 3",
   "language": "python",
   "name": "python3"
  },
  "language_info": {
   "codemirror_mode": {
    "name": "ipython",
    "version": 3
   },
   "file_extension": ".py",
   "mimetype": "text/x-python",
   "name": "python",
   "nbconvert_exporter": "python",
   "pygments_lexer": "ipython3",
   "version": "3.7.12"
  },
  "papermill": {
   "default_parameters": {},
   "duration": 12.51782,
   "end_time": "2023-01-16T07:27:37.617134",
   "environment_variables": {},
   "exception": null,
   "input_path": "__notebook__.ipynb",
   "output_path": "__notebook__.ipynb",
   "parameters": {},
   "start_time": "2023-01-16T07:27:25.099314",
   "version": "2.3.4"
  }
 },
 "nbformat": 4,
 "nbformat_minor": 5
}
